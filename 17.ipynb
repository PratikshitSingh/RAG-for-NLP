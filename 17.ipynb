{
 "cells": [
  {
   "cell_type": "code",
   "execution_count": 2,
   "metadata": {},
   "outputs": [
    {
     "data": {
      "application/vnd.jupyter.widget-view+json": {
       "model_id": "534d3408c5e74d96a44c352abc35b529",
       "version_major": 2,
       "version_minor": 0
      },
      "text/plain": [
       "Creating json from Arrow format:   0%|          | 0/1 [00:00<?, ?ba/s]"
      ]
     },
     "metadata": {},
     "output_type": "display_data"
    },
    {
     "data": {
      "text/plain": [
       "2261"
      ]
     },
     "execution_count": 2,
     "metadata": {},
     "output_type": "execute_result"
    }
   ],
   "source": [
    "from datasets import Dataset\n",
    "\n",
    "enterprise_eval_data = {\n",
    "    \"question\": [\n",
    "        \"How many paid leave days are allowed?\",\n",
    "        \"What is the process for IT asset return during exit?\",\n",
    "        \"Can employees work remotely full-time?\",\n",
    "        \"What is the timeline for expense reimbursements?\"\n",
    "    ],\n",
    "    \"contexts\": [[\n",
    "        \"Employees are allowed 24 days of paid leave per year.\",\n",
    "        \"Upon resignation, all company IT assets must be returned before the last working day.\",\n",
    "        \"Remote work is permitted up to 3 days a week with manager approval.\",\n",
    "        \"Expense claims must be submitted within 10 working days of travel.\"\n",
    "    ] for _ in range(4)],\n",
    "    \"rag_answer\": [\n",
    "        \"Employees can take 24 paid leave days in a year.\",\n",
    "        \"IT assets need to be returned before the final day at work.\",\n",
    "        \"Employees may work remotely three days weekly after manager approval.\",\n",
    "        \"Claims must be filed within 10 business days post travel.\"\n",
    "    ],\n",
    "    \"finetuned_answer\": [\n",
    "        \"Employees get 30 paid leave days yearly.\",\n",
    "        \"IT return is part of the exit checklist submitted to HR.\",\n",
    "        \"Remote work is available full-time based on role.\",\n",
    "        \"Reimbursements must be completed in the same quarter.\"\n",
    "    ],\n",
    "    \"ground_truth\": [\n",
    "        \"24 days of paid leave per year.\",\n",
    "        \"IT assets must be returned before the last working day.\",\n",
    "        \"Remote work is allowed up to 3 days per week.\",\n",
    "        \"Reimbursements must be filed within 10 working days.\"\n",
    "    ]\n",
    "}\n",
    "\n",
    "dataset = Dataset.from_dict(enterprise_eval_data)\n",
    "dataset.to_json(\"ragas_rag_vs_finetune_demo.json\", orient=\"records\", lines=True)\n"
   ]
  },
  {
   "cell_type": "code",
   "execution_count": null,
   "metadata": {},
   "outputs": [],
   "source": []
  },
  {
   "cell_type": "markdown",
   "metadata": {},
   "source": [
    "# 🔍 RAG vs Fine-Tuned Model Evaluation using RAGAS\n",
    "\n",
    "This notebook evaluates a RAG pipeline against fine-tuned model outputs using:\n",
    "- ✅ RAGAS Metrics (Faithfulness, Context Precision, Answer Relevancy, Correctness)\n",
    "- 🔵 BLEU Score\n",
    "- 🔴 ROUGE Score\n",
    "\n",
    "Outputs are saved to CSV for further benchmarking.\n"
   ]
  },
  {
   "cell_type": "code",
   "execution_count": 1,
   "metadata": {},
   "outputs": [],
   "source": [
    "!pip install ragas datasets evaluate transformers faiss-cpu langchain-openai -q"
   ]
  },
  {
   "cell_type": "code",
   "execution_count": 2,
   "metadata": {},
   "outputs": [
    {
     "data": {
      "text/plain": [
       "Dataset({\n",
       "    features: ['question', 'answer', 'contexts', 'ground_truth'],\n",
       "    num_rows: 2\n",
       "})"
      ]
     },
     "execution_count": 2,
     "metadata": {},
     "output_type": "execute_result"
    }
   ],
   "source": [
    "\n",
    "from datasets import Dataset\n",
    "\n",
    "# Simulated RAG vs Fine-Tuned outputs\n",
    "data_samples = {\n",
    "    'question': [\n",
    "        'When was the first super bowl?', \n",
    "        'Who won the most super bowls?'\n",
    "    ],\n",
    "    'answer': [\n",
    "        'The first superbowl was held on Jan 15, 1967', \n",
    "        'The most super bowls have been won by The New England Patriots'\n",
    "    ],\n",
    "    'contexts': [\n",
    "        [\n",
    "            'The First AFL–NFL World Championship Game was played on January 15, 1967, at the Los Angeles Coliseum.'\n",
    "        ], \n",
    "        [\n",
    "            'The New England Patriots have won the Super Bowl a record six times.'\n",
    "        ]\n",
    "    ],\n",
    "    'ground_truth': [\n",
    "        'The first superbowl was held on January 15, 1967', \n",
    "        'The New England Patriots have won the Super Bowl a record six times'\n",
    "    ]\n",
    "}\n",
    "\n",
    "dataset = Dataset.from_dict(data_samples)\n",
    "dataset\n"
   ]
  },
  {
   "cell_type": "code",
   "execution_count": 3,
   "metadata": {},
   "outputs": [
    {
     "data": {
      "application/vnd.jupyter.widget-view+json": {
       "model_id": "a96013b6bcc648fda87633c19891389d",
       "version_major": 2,
       "version_minor": 0
      },
      "text/plain": [
       "Evaluating:   0%|          | 0/8 [00:00<?, ?it/s]"
      ]
     },
     "metadata": {},
     "output_type": "display_data"
    },
    {
     "data": {
      "text/plain": [
       "{'faithfulness': 0.5000, 'context_precision': 1.0000, 'answer_relevancy': 0.9619, 'answer_correctness': 0.9901}"
      ]
     },
     "execution_count": 3,
     "metadata": {},
     "output_type": "execute_result"
    }
   ],
   "source": [
    "\n",
    "from ragas import evaluate\n",
    "from ragas.metrics import faithfulness, context_precision, answer_relevancy, answer_correctness\n",
    "\n",
    "results = evaluate(\n",
    "    dataset,\n",
    "    metrics=[faithfulness, context_precision, answer_relevancy, answer_correctness]\n",
    ")\n",
    "results\n"
   ]
  },
  {
   "cell_type": "code",
   "execution_count": 4,
   "metadata": {},
   "outputs": [
    {
     "name": "stdout",
     "output_type": "stream",
     "text": [
      "🔵 BLEU: 0.4077184582232638\n",
      "🔴 ROUGE: {'rouge1': 0.7644444444444445, 'rouge2': 0.5054347826086957, 'rougeL': 0.6044444444444445, 'rougeLsum': 0.6044444444444445}\n"
     ]
    }
   ],
   "source": [
    "\n",
    "from evaluate import load\n",
    "\n",
    "bleu = load(\"bleu\")\n",
    "rouge = load(\"rouge\")\n",
    "\n",
    "bleu_result = bleu.compute(\n",
    "    predictions=data_samples['answer'],\n",
    "    references=[[gt] for gt in data_samples['ground_truth']]\n",
    ")\n",
    "\n",
    "rouge_result = rouge.compute(\n",
    "    predictions=data_samples['answer'],\n",
    "    references=data_samples['ground_truth']\n",
    ")\n",
    "\n",
    "print(\"🔵 BLEU:\", bleu_result['bleu'])\n",
    "print(\"🔴 ROUGE:\", rouge_result)\n"
   ]
  },
  {
   "cell_type": "code",
   "execution_count": 7,
   "metadata": {},
   "outputs": [
    {
     "name": "stdout",
     "output_type": "stream",
     "text": [
      "✅ Exported to ragas_vs_finetuned_results.csv\n"
     ]
    }
   ],
   "source": [
    "\n",
    "df = results.to_pandas()\n",
    "df.to_csv(\"ragas_vs_finetuned_results.csv\", index=False)\n",
    "print(\"✅ Exported to ragas_vs_finetuned_results.csv\")\n"
   ]
  },
  {
   "cell_type": "code",
   "execution_count": null,
   "metadata": {},
   "outputs": [],
   "source": []
  },
  {
   "cell_type": "markdown",
   "metadata": {},
   "source": [
    "# 🧠 Integrating RAG Pipeline with RAGAS Evaluation\n",
    "\n",
    "In this notebook, we:\n",
    "- Load a custom RAG pipeline\n",
    "- Use it to generate answers from real documents\n",
    "- Evaluate RAG pipeline outputs using RAGAS metrics\n",
    "- Compare with fine-tuned outputs (optional)\n"
   ]
  },
  {
   "cell_type": "code",
   "execution_count": 5,
   "metadata": {},
   "outputs": [],
   "source": [
    "!pip install langchain ragas datasets faiss-cpu python-dotenv -U -q"
   ]
  },
  {
   "cell_type": "code",
   "execution_count": 7,
   "metadata": {},
   "outputs": [],
   "source": [
    "\n",
    "import os\n",
    "from dotenv import load_dotenv\n",
    "load_dotenv()\n",
    "\n",
    "from langchain_openai import OpenAIEmbeddings, ChatOpenAI\n",
    "from langchain_community.vectorstores import FAISS\n",
    "from langchain.text_splitter import RecursiveCharacterTextSplitter\n",
    "from langchain_community.document_loaders import TextLoader\n",
    "\n",
    "# Prepare documents (can be .txt or .md files)\n",
    "loader = TextLoader(\"17sample_rag_corpus.txt\")\n",
    "docs = loader.load()\n",
    "splitter = RecursiveCharacterTextSplitter(chunk_size=300, chunk_overlap=50)\n",
    "chunks = splitter.split_documents(docs)\n",
    "\n",
    "# Embed and build vector store\n",
    "embeddings = OpenAIEmbeddings()\n",
    "vectorstore = FAISS.from_documents(chunks, embeddings)\n",
    "retriever = vectorstore.as_retriever()\n"
   ]
  },
  {
   "cell_type": "code",
   "execution_count": 8,
   "metadata": {},
   "outputs": [],
   "source": [
    "\n",
    "from langchain.chains import RetrievalQA\n",
    "\n",
    "llm = ChatOpenAI(model=\"gpt-3.5-turbo\")\n",
    "rag_chain = RetrievalQA.from_chain_type(llm=llm, retriever=retriever, return_source_documents=True)\n"
   ]
  },
  {
   "cell_type": "code",
   "execution_count": 9,
   "metadata": {},
   "outputs": [
    {
     "data": {
      "text/plain": [
       "{'question': ['When was the first super bowl?',\n",
       "  'Who introduced the theory of relativity?'],\n",
       " 'answer': ['The first Super Bowl, known as the AFL-NFL World Championship Game, was held on January 15, 1967, at the Los Angeles Memorial Coliseum.',\n",
       "  'Albert Einstein introduced the theory of relativity in the early 20th century.'],\n",
       " 'contexts': [['The first Super Bowl, known as the AFL-NFL World Championship Game, was held on January 15, 1967, at the Los Angeles Memorial Coliseum.\\n\\nAlbert Einstein proposed the theory of relativity in the early 20th century, fundamentally changing our understanding of space, time, and gravity.',\n",
       "   'Ada Lovelace is widely regarded as the first computer programmer, writing the first algorithm intended for a machine.',\n",
       "   \"Marie Curie was a pioneering physicist and chemist who conducted groundbreaking research on radioactivity, earning two Nobel Prizes.\\n\\nThe Eiffel Tower is located in Paris, France, and was completed in 1889 for the World's Fair.\"],\n",
       "  ['The first Super Bowl, known as the AFL-NFL World Championship Game, was held on January 15, 1967, at the Los Angeles Memorial Coliseum.\\n\\nAlbert Einstein proposed the theory of relativity in the early 20th century, fundamentally changing our understanding of space, time, and gravity.',\n",
       "   \"Marie Curie was a pioneering physicist and chemist who conducted groundbreaking research on radioactivity, earning two Nobel Prizes.\\n\\nThe Eiffel Tower is located in Paris, France, and was completed in 1889 for the World's Fair.\",\n",
       "   'Ada Lovelace is widely regarded as the first computer programmer, writing the first algorithm intended for a machine.']]}"
      ]
     },
     "execution_count": 9,
     "metadata": {},
     "output_type": "execute_result"
    }
   ],
   "source": [
    "\n",
    "# Define RAG queries\n",
    "questions = [\n",
    "    \"When was the first super bowl?\",\n",
    "    \"Who introduced the theory of relativity?\"\n",
    "]\n",
    "\n",
    "# Generate answers\n",
    "qa_data = {\n",
    "    \"question\": [],\n",
    "    \"answer\": [],\n",
    "    \"contexts\": [],\n",
    "}\n",
    "\n",
    "for q in questions:\n",
    "    result = rag_chain.invoke(q)\n",
    "    qa_data[\"question\"].append(q)\n",
    "    qa_data[\"answer\"].append(result[\"result\"])\n",
    "    qa_data[\"contexts\"].append([doc.page_content for doc in result[\"source_documents\"]])\n",
    "\n",
    "qa_data\n"
   ]
  },
  {
   "cell_type": "code",
   "execution_count": null,
   "metadata": {},
   "outputs": [],
   "source": [
    "# qa_data = [\n",
    "#     {\n",
    "#         \"question\": \"Who proposed the theory of relativity?\",\n",
    "#         \"answer\": \"Albert Einstein proposed the theory of relativity.\",\n",
    "#         \"contexts\": [\"Albert Einstein proposed the theory of relativity, which transformed our understanding of time, space, and gravity.\"],\n",
    "#         \"ground_truth\": \"Albert Einstein proposed the theory of relativity.\"\n",
    "#     },\n",
    "#     {\n",
    "#         \"question\": \"Where is the Eiffel Tower located?\",\n",
    "#         \"answer\": \"The Eiffel Tower is in Paris.\",\n",
    "#         \"contexts\": [\"The Eiffel Tower is located in Paris, France, and was completed in 1889 for the World's Fair.\"],\n",
    "#         \"ground_truth\": \"The Eiffel Tower is located in Paris, France.\"\n",
    "#     }\n",
    "# ]\n"
   ]
  },
  {
   "cell_type": "code",
   "execution_count": 10,
   "metadata": {},
   "outputs": [],
   "source": [
    "!pip install ragas datasets evaluate -q"
   ]
  },
  {
   "cell_type": "code",
   "execution_count": 11,
   "metadata": {},
   "outputs": [
    {
     "data": {
      "application/vnd.jupyter.widget-view+json": {
       "model_id": "d59b12d5f0794321a627dcf8de2302e1",
       "version_major": 2,
       "version_minor": 0
      },
      "text/plain": [
       "Evaluating:   0%|          | 0/8 [00:00<?, ?it/s]"
      ]
     },
     "metadata": {},
     "output_type": "display_data"
    },
    {
     "data": {
      "text/html": [
       "<div>\n",
       "<style scoped>\n",
       "    .dataframe tbody tr th:only-of-type {\n",
       "        vertical-align: middle;\n",
       "    }\n",
       "\n",
       "    .dataframe tbody tr th {\n",
       "        vertical-align: top;\n",
       "    }\n",
       "\n",
       "    .dataframe thead th {\n",
       "        text-align: right;\n",
       "    }\n",
       "</style>\n",
       "<table border=\"1\" class=\"dataframe\">\n",
       "  <thead>\n",
       "    <tr style=\"text-align: right;\">\n",
       "      <th></th>\n",
       "      <th>user_input</th>\n",
       "      <th>retrieved_contexts</th>\n",
       "      <th>response</th>\n",
       "      <th>reference</th>\n",
       "      <th>faithfulness</th>\n",
       "      <th>context_precision</th>\n",
       "      <th>answer_relevancy</th>\n",
       "      <th>answer_correctness</th>\n",
       "    </tr>\n",
       "  </thead>\n",
       "  <tbody>\n",
       "    <tr>\n",
       "      <th>0</th>\n",
       "      <td>Who proposed the theory of relativity?</td>\n",
       "      <td>[Albert Einstein proposed the theory of relati...</td>\n",
       "      <td>Albert Einstein proposed the theory of relativ...</td>\n",
       "      <td>Albert Einstein proposed the theory of relativ...</td>\n",
       "      <td>1.0</td>\n",
       "      <td>1.0</td>\n",
       "      <td>0.910911</td>\n",
       "      <td>1.00000</td>\n",
       "    </tr>\n",
       "    <tr>\n",
       "      <th>1</th>\n",
       "      <td>Where is the Eiffel Tower located?</td>\n",
       "      <td>[The Eiffel Tower is located in Paris, France,...</td>\n",
       "      <td>The Eiffel Tower is in Paris.</td>\n",
       "      <td>The Eiffel Tower is located in Paris, France.</td>\n",
       "      <td>1.0</td>\n",
       "      <td>1.0</td>\n",
       "      <td>1.000000</td>\n",
       "      <td>0.74353</td>\n",
       "    </tr>\n",
       "  </tbody>\n",
       "</table>\n",
       "</div>"
      ],
      "text/plain": [
       "                               user_input  \\\n",
       "0  Who proposed the theory of relativity?   \n",
       "1      Where is the Eiffel Tower located?   \n",
       "\n",
       "                                  retrieved_contexts  \\\n",
       "0  [Albert Einstein proposed the theory of relati...   \n",
       "1  [The Eiffel Tower is located in Paris, France,...   \n",
       "\n",
       "                                            response  \\\n",
       "0  Albert Einstein proposed the theory of relativ...   \n",
       "1                      The Eiffel Tower is in Paris.   \n",
       "\n",
       "                                           reference  faithfulness  \\\n",
       "0  Albert Einstein proposed the theory of relativ...           1.0   \n",
       "1      The Eiffel Tower is located in Paris, France.           1.0   \n",
       "\n",
       "   context_precision  answer_relevancy  answer_correctness  \n",
       "0                1.0          0.910911             1.00000  \n",
       "1                1.0          1.000000             0.74353  "
      ]
     },
     "execution_count": 11,
     "metadata": {},
     "output_type": "execute_result"
    }
   ],
   "source": [
    "from ragas import evaluate, EvaluationDataset\n",
    "from ragas.metrics import faithfulness, answer_correctness, answer_relevancy, context_precision\n",
    "\n",
    "# ✅ Correct structure for RAGAS v0.1+\n",
    "qa_data = [\n",
    "    {\n",
    "        \"user_input\": \"Who proposed the theory of relativity?\",\n",
    "        \"response\": \"Albert Einstein proposed the theory of relativity.\",\n",
    "        \"retrieved_contexts\": [\n",
    "            \"Albert Einstein proposed the theory of relativity, which transformed our understanding of time, space, and gravity.\"\n",
    "        ],\n",
    "        \"reference\": \"Albert Einstein proposed the theory of relativity.\"\n",
    "    },\n",
    "    {\n",
    "        \"user_input\": \"Where is the Eiffel Tower located?\",\n",
    "        \"response\": \"The Eiffel Tower is in Paris.\",\n",
    "        \"retrieved_contexts\": [\n",
    "            \"The Eiffel Tower is located in Paris, France, and was completed in 1889 for the World's Fair.\"\n",
    "        ],\n",
    "        \"reference\": \"The Eiffel Tower is located in Paris, France.\"\n",
    "    }\n",
    "]\n",
    "\n",
    "# ✅ Convert to EvaluationDataset\n",
    "dataset = EvaluationDataset.from_list(qa_data)\n",
    "\n",
    "# ✅ Evaluate using RAGAS metrics\n",
    "results = evaluate(\n",
    "    dataset,\n",
    "    metrics=[\n",
    "        faithfulness,\n",
    "        context_precision,\n",
    "        answer_relevancy,\n",
    "        answer_correctness\n",
    "    ]\n",
    ")\n",
    "\n",
    "# ✅ View results\n",
    "results.to_pandas()\n"
   ]
  },
  {
   "cell_type": "code",
   "execution_count": 12,
   "metadata": {},
   "outputs": [
    {
     "name": "stdout",
     "output_type": "stream",
     "text": [
      "✅ Exported to ragas_real_rag_pipeline_eval.csv\n"
     ]
    }
   ],
   "source": [
    "\n",
    "df = results.to_pandas()\n",
    "df.to_csv(\"ragas_real_rag_pipeline_eval.csv\", index=False)\n",
    "print(\"✅ Exported to ragas_real_rag_pipeline_eval.csv\")\n"
   ]
  },
  {
   "cell_type": "code",
   "execution_count": 27,
   "metadata": {},
   "outputs": [
    {
     "data": {
      "text/html": [
       "<div>\n",
       "<style scoped>\n",
       "    .dataframe tbody tr th:only-of-type {\n",
       "        vertical-align: middle;\n",
       "    }\n",
       "\n",
       "    .dataframe tbody tr th {\n",
       "        vertical-align: top;\n",
       "    }\n",
       "\n",
       "    .dataframe thead th {\n",
       "        text-align: right;\n",
       "    }\n",
       "</style>\n",
       "<table border=\"1\" class=\"dataframe\">\n",
       "  <thead>\n",
       "    <tr style=\"text-align: right;\">\n",
       "      <th></th>\n",
       "      <th>user_input</th>\n",
       "      <th>retrieved_contexts</th>\n",
       "      <th>response</th>\n",
       "      <th>reference</th>\n",
       "      <th>faithfulness</th>\n",
       "      <th>context_precision</th>\n",
       "      <th>answer_relevancy</th>\n",
       "      <th>answer_correctness</th>\n",
       "    </tr>\n",
       "  </thead>\n",
       "  <tbody>\n",
       "    <tr>\n",
       "      <th>0</th>\n",
       "      <td>Who proposed the theory of relativity?</td>\n",
       "      <td>[Albert Einstein proposed the theory of relati...</td>\n",
       "      <td>Albert Einstein proposed the theory of relativ...</td>\n",
       "      <td>Albert Einstein proposed the theory of relativ...</td>\n",
       "      <td>1.0</td>\n",
       "      <td>1.0</td>\n",
       "      <td>0.91087</td>\n",
       "      <td>1.00000</td>\n",
       "    </tr>\n",
       "    <tr>\n",
       "      <th>1</th>\n",
       "      <td>Where is the Eiffel Tower located?</td>\n",
       "      <td>[The Eiffel Tower is located in Paris, France,...</td>\n",
       "      <td>The Eiffel Tower is in Paris.</td>\n",
       "      <td>The Eiffel Tower is located in Paris, France.</td>\n",
       "      <td>1.0</td>\n",
       "      <td>1.0</td>\n",
       "      <td>1.00000</td>\n",
       "      <td>0.74353</td>\n",
       "    </tr>\n",
       "  </tbody>\n",
       "</table>\n",
       "</div>"
      ],
      "text/plain": [
       "                               user_input  \\\n",
       "0  Who proposed the theory of relativity?   \n",
       "1      Where is the Eiffel Tower located?   \n",
       "\n",
       "                                  retrieved_contexts  \\\n",
       "0  [Albert Einstein proposed the theory of relati...   \n",
       "1  [The Eiffel Tower is located in Paris, France,...   \n",
       "\n",
       "                                            response  \\\n",
       "0  Albert Einstein proposed the theory of relativ...   \n",
       "1                      The Eiffel Tower is in Paris.   \n",
       "\n",
       "                                           reference  faithfulness  \\\n",
       "0  Albert Einstein proposed the theory of relativ...           1.0   \n",
       "1      The Eiffel Tower is located in Paris, France.           1.0   \n",
       "\n",
       "   context_precision  answer_relevancy  answer_correctness  \n",
       "0                1.0           0.91087             1.00000  \n",
       "1                1.0           1.00000             0.74353  "
      ]
     },
     "execution_count": 27,
     "metadata": {},
     "output_type": "execute_result"
    }
   ],
   "source": [
    "df"
   ]
  },
  {
   "cell_type": "code",
   "execution_count": null,
   "metadata": {},
   "outputs": [],
   "source": []
  }
 ],
 "metadata": {
  "kernelspec": {
   "display_name": "base",
   "language": "python",
   "name": "python3"
  },
  "language_info": {
   "codemirror_mode": {
    "name": "ipython",
    "version": 3
   },
   "file_extension": ".py",
   "mimetype": "text/x-python",
   "name": "python",
   "nbconvert_exporter": "python",
   "pygments_lexer": "ipython3",
   "version": "3.11.7"
  },
  "varInspector": {
   "cols": {
    "lenName": 16,
    "lenType": 16,
    "lenVar": 40
   },
   "kernels_config": {
    "python": {
     "delete_cmd_postfix": "",
     "delete_cmd_prefix": "del ",
     "library": "var_list.py",
     "varRefreshCmd": "print(var_dic_list())"
    },
    "r": {
     "delete_cmd_postfix": ") ",
     "delete_cmd_prefix": "rm(",
     "library": "var_list.r",
     "varRefreshCmd": "cat(var_dic_list()) "
    }
   },
   "types_to_exclude": [
    "module",
    "function",
    "builtin_function_or_method",
    "instance",
    "_Feature"
   ],
   "window_display": false
  }
 },
 "nbformat": 4,
 "nbformat_minor": 2
}
