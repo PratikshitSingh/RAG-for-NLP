{
 "cells": [
  {
   "cell_type": "markdown",
   "metadata": {},
   "source": [
    "## 🔍 What is RAGAS?\n",
    "\n",
    "https://docs.ragas.io/en/stable/\n",
    "\n",
    "**RAGAS** stands for **Retrieval-Augmented Generation Assessment**.  \n",
    "It’s an **open-source evaluation framework** that helps you **measure the quality** of your RAG pipelines.\n",
    "\n",
    "In simple words:  \n",
    "> “It tells you how good your RAG system is — at retrieving useful chunks, generating accurate and faithful answers, and being self-aware when it doesn’t know.”\n",
    "\n",
    "---\n",
    "\n",
    "## 🧱 Why Do We Need RAGAS?\n",
    "\n",
    "In RAG systems:\n",
    "- The LLM answers a question based on documents retrieved by a search engine.\n",
    "- We want to **ensure each step works well** — both the **retrieval** and the **generation**.\n",
    "\n",
    "🛠 Traditional LLM evaluation (e.g., BLEU, ROUGE) doesn't work well here because:\n",
    "- Answers might be factually correct but worded differently.\n",
    "- We care more about **truthfulness**, **faithfulness**, and **context grounding**.\n",
    "\n",
    "---\n",
    "\n",
    "## 🔑 Key Metrics in RAGAS\n",
    "\n",
    "Let’s walk through **each metric**, explain it in **simple words**, and give a **formula + example**.\n",
    "\n",
    "---\n",
    "\n",
    "### 📘 1. **Faithfulness**\n",
    "\n",
    "**What it asks:**  \n",
    "> \"Is the generated answer truly supported by the retrieved context?\"\n",
    "\n",
    "- It checks if the answer **can be traced back** to the documents retrieved.\n",
    "\n",
    "**Why it matters:**  \n",
    "If the LLM \"hallucinates\" (i.e., makes up stuff), faithfulness will be low.\n",
    "\n",
    "#### ✅ Formula (High-level):\n",
    "Faithfulness = Similarity(generated_answer, grounded_facts_from_context)\n",
    "\n",
    "- Evaluated using **Natural Language Inference (NLI)** models.\n",
    "- Uses labels like “entailment”, “neutral”, “contradiction”\n",
    "\n",
    "#### 🧠 Example:\n",
    "**Context:** \"Employees are eligible for 24 days of leave.\"  \n",
    "**Question:** \"How many leave days do I get?\"  \n",
    "**Answer:** \"You get 30 days of leave.\" ❌  \n",
    "➡️ Not faithful (answer contradicts the context)\n",
    "\n",
    "---\n",
    "\n",
    "### 🔍 2. **Context Precision**\n",
    "\n",
    "**What it asks:**  \n",
    "> \"How much of the retrieved context is actually useful for answering the question?\"\n",
    "\n",
    "- It checks how much of the **retrieved info is relevant**.\n",
    "\n",
    "#### ✅ Formula:\n",
    "Context Precision = (# relevant context chunks) / (# total retrieved chunks)\n",
    "\n",
    "#### 🧠 Example:\n",
    "You retrieve 5 chunks, but only 2 were useful →  \n",
    "Context Precision = 2/5 = 0.4 (low)\n",
    "\n",
    "---\n",
    "\n",
    "### 🧠 3. **Answer Relevancy**\n",
    "\n",
    "**What it asks:**  \n",
    "> \"How relevant is the generated answer to the actual question?\"\n",
    "\n",
    "- Even if it’s not totally correct, was it **on topic**?\n",
    "\n",
    "#### ✅ Formula:\n",
    "Evaluated using a cross-encoder that measures semantic similarity between **question ↔ answer**\n",
    "\n",
    "#### 🧠 Example:\n",
    "**Question:** \"What’s the deadline to claim reimbursements?\"  \n",
    "**Answer:** \"Employees must serve a 30-day notice period.\"  \n",
    "➡️ Low relevancy (off-topic)\n",
    "\n",
    "---\n",
    "\n",
    "### ✅ 4. **Answer Correctness**\n",
    "\n",
    "**What it asks:**  \n",
    "> \"Is the answer factually correct compared to ground truth?\"\n",
    "\n",
    "- Needs labeled test data with correct answers.\n",
    "- Often used during **benchmark testing**.\n",
    "\n",
    "#### ✅ Formula:\n",
    "Correctness = Similarity(predicted_answer, ground_truth_answer)\n",
    "\n",
    "#### 🧠 Example:\n",
    "**Ground Truth:** \"10 business days\"  \n",
    "**Answer:** \"Ten working days\" → ✅ High correctness\n",
    "\n",
    "---\n",
    "\n",
    "### 🚫 5. **Context Recall**\n",
    "\n",
    "**What it asks:**  \n",
    "> \"Did we retrieve all the chunks needed to answer the question completely?\"\n",
    "\n",
    "- Especially useful in **multi-hop QA** (where you need multiple pieces of info).\n",
    "\n",
    "#### ✅ Formula:\n",
    "Context Recall = (# relevant retrieved chunks) / (# relevant total chunks in corpus)\n",
    "\n",
    "This metric is still **experimental** and not always enabled.\n",
    "\n",
    "---\n",
    "\n",
    "## 🔬 Additional Components\n",
    "\n",
    "### ✅ 6. **RAGAS Score** (Overall Composite)\n",
    "\n",
    "This is a **weighted average** of all metrics:  \n",
    "> Faithfulness, Context Precision, Answer Relevancy, Correctness\n",
    "\n",
    "Weights can be configured based on your use case.\n",
    "\n",
    "---\n",
    "\n",
    "## 🧪 Example RAGAS Output\n",
    "\n",
    "| Metric              | Score |\n",
    "|---------------------|-------|\n",
    "| Faithfulness        | 0.88  |\n",
    "| Context Precision   | 0.60  |\n",
    "| Answer Relevancy    | 0.95  |\n",
    "| Answer Correctness  | 0.90  |\n",
    "| **RAGAS Score**     | 0.83  |\n",
    "\n",
    "---\n",
    "\n",
    "## 🛠 How to Use RAGAS in Code\n",
    "\n",
    "```python\n",
    "from ragas.metrics import faithfulness, context_precision, answer_relevancy, answer_correctness\n",
    "from ragas.evaluator import evaluate\n",
    "from ragas.dataset import Dataset\n",
    "from datasets import Dataset as HFDataset\n",
    "\n",
    "# Load your question-answer-context triples\n",
    "hf_dataset = HFDataset.from_dict({\n",
    "    \"question\": [...],\n",
    "    \"contexts\": [...],\n",
    "    \"answer\": [...],\n",
    "    \"ground_truth\": [...],  # optional for correctness\n",
    "})\n",
    "\n",
    "# Convert to RAGAS Dataset\n",
    "ragas_dataset = Dataset(hf_dataset)\n",
    "\n",
    "# Evaluate\n",
    "results = evaluate(\n",
    "    ragas_dataset,\n",
    "    metrics=[faithfulness, context_precision, answer_relevancy, answer_correctness]\n",
    ")\n",
    "print(results)\n",
    "```\n",
    "\n",
    "---\n",
    "\n",
    "## 🧠 When Should You Use RAGAS?\n",
    "\n",
    "- ✅ Benchmarking different RAG pipelines\n",
    "- ✅ Comparing vector DBs (e.g., FAISS vs Chroma)\n",
    "- ✅ Checking model hallucination\n",
    "- ✅ Monitoring production quality of GenAI apps\n",
    "- ✅ Deciding fine-tuning vs retrieval\n",
    "\n",
    "---\n",
    "\n",
    "## 📦 Installation\n",
    "\n",
    "```bash\n",
    "pip install ragas\n",
    "```\n",
    "\n",
    "Also requires:\n",
    "```bash\n",
    "pip install datasets transformers evaluate\n",
    "```\n",
    "\n",
    "---\n",
    "\n",
    "## 📚 Summary Table\n",
    "\n",
    "| Metric            | Measures                         | Needs Ground Truth? | Model Used           |\n",
    "|------------------|----------------------------------|----------------------|----------------------|\n",
    "| Faithfulness      | Is answer supported by context? | ❌                   | NLI model            |\n",
    "| Context Precision | How much context is useful?     | ❌                   | Semantic similarity  |\n",
    "| Answer Relevancy  | Is answer on-topic?             | ❌                   | Cross-encoder        |\n",
    "| Answer Correctness| Is answer factually right?      | ✅                   | Text similarity      |\n",
    "| Context Recall    | All info retrieved?             | Optional             | Semantic check       |\n",
    "\n",
    "---"
   ]
  },
  {
   "cell_type": "code",
   "execution_count": null,
   "metadata": {},
   "outputs": [],
   "source": []
  },
  {
   "attachments": {
    "image-2.png": {
     "image/png": "[encoded data removed]"
    },
    "image.png": {
     "image/png": "[encoded data removed]"
    }
   },
   "cell_type": "markdown",
   "metadata": {},
   "source": [
    "## 🔵 What is BLEU Score?\n",
    "\n",
    "**BLEU** stands for **Bilingual Evaluation Understudy**.  \n",
    "It’s one of the oldest and most widely used metrics to **evaluate the quality of text generated by models**, especially in **Machine Translation**, **Summarization**, and now even in **RAG systems**.\n",
    "\n",
    "---\n",
    "\n",
    "## 💬 Simple Definition\n",
    "\n",
    "> BLEU measures **how close the generated text is** to the reference (or ground truth) text, based on **matching short sequences of words (n-grams)**.\n",
    "\n",
    "---\n",
    "\n",
    "## 🧠 Why BLEU for RAG?\n",
    "\n",
    "In **RAG systems**, you want to:\n",
    "- Ask a question like: “How many leave days do I get?”\n",
    "- And ensure that the **generated answer** is **similar** to the **ground truth answer**, even if it’s not exactly the same.\n",
    "\n",
    "BLEU helps compare them in terms of **word overlap patterns**.\n",
    "\n",
    "---\n",
    "\n",
    "## 📘 How Does BLEU Work?\n",
    "\n",
    "Let’s break it into components:\n",
    "\n",
    "### 1️⃣ **n-grams**\n",
    "An n-gram is a sequence of **n words**.\n",
    "\n",
    "Example sentence:  \n",
    "> \"Employees get 24 days of leave.\"\n",
    "\n",
    "- **1-grams (unigrams):** \"Employees\", \"get\", \"24\", \"days\", \"of\", \"leave\"\n",
    "- **2-grams:** \"Employees get\", \"get 24\", \"24 days\", \"days of\", \"of leave\"\n",
    "- **3-grams:** \"Employees get 24\", \"get 24 days\", \"24 days of\", \"days of leave\"\n",
    "\n",
    "---\n",
    "\n",
    "### 2️⃣ **Precision (for n-grams)**\n",
    "\n",
    "> Precision = how many of the model's n-grams are present in the reference?\n",
    "\n",
    "Example:\n",
    "\n",
    "- **Reference:** \"Employees get 24 days of paid leave\"\n",
    "- **Generated:** \"Staff get 24 days leave\"\n",
    "\n",
    "- Unigrams match: \"get\", \"24\", \"days\", \"leave\" → 4 out of 5  \n",
    "- **Precision = 4 / 5 = 0.80**\n",
    "\n",
    "---\n",
    "\n",
    "### 3️⃣ **Modified n-gram Precision**\n",
    "\n",
    "To avoid cheating by repeating matching words, BLEU **limits the number of times a word is counted**, based on how often it appears in the reference.\n",
    "\n",
    "This is called **clipping**.\n",
    "\n",
    "---\n",
    "\n",
    "### 4️⃣ **Brevity Penalty (BP)**\n",
    "\n",
    "To **discourage very short answers**, BLEU uses a brevity penalty.\n",
    "\n",
    "- If generated answer is **shorter than reference**, BP < 1\n",
    "- Otherwise, BP = 1\n",
    "\n",
    "![image.png](attachment:image.png)\n",
    "\n",
    "---\n",
    "\n",
    "### 5️⃣ **Final BLEU Formula (for up to n-grams)**\n",
    "\n",
    "![image-2.png](attachment:image-2.png)\n",
    "\n",
    "---\n",
    "\n",
    "## 🧪 BLEU Example (Simplified)\n",
    "\n",
    "| Metric                    | Value            |\n",
    "|---------------------------|------------------|\n",
    "| Reference                 | \"Employees get 24 paid leave days\"  \n",
    "| Generated Answer          | \"Employees get 24 leave days\"  \n",
    "| Matching unigrams         | 5 / 5 = 100%  \n",
    "| Matching bigrams          | 3 / 4 = 75%  \n",
    "| BP (same length)          | 1  \n",
    "| BLEU Score (1–2 grams)    | ≈ 0.86 (high-quality)\n",
    "\n",
    "---\n",
    "\n",
    "## ✅ BLEU Score Range\n",
    "\n",
    "- **0.0** → No overlap (bad)\n",
    "- **1.0** → Perfect match (excellent)\n",
    "- **Industry Rule-of-Thumb:**\n",
    "  - **0.8+** → High-quality\n",
    "  - **0.5–0.8** → Acceptable\n",
    "  - **< 0.5** → Needs improvement\n",
    "\n",
    "---\n",
    "\n",
    "## 📍 BLEU in RAGAS\n",
    "\n",
    "BLEU is **optionally used in RAGAS** to:\n",
    "- Validate **Answer Correctness** (with ground truth)\n",
    "- Cross-check performance of **generation quality**\n",
    "- Complement semantic measures like **faithfulness or NLI-based metrics**\n",
    "\n",
    "You can manually compute BLEU or plug into RAGAS pipelines.\n",
    "\n",
    "```python\n",
    "from evaluate import load\n",
    "\n",
    "bleu = load(\"bleu\")\n",
    "result = bleu.compute(predictions=[\"Employees get 24 leave days\"], references=[[\"Employees get 24 paid leave days\"]])\n",
    "print(result['bleu'])  # Output: 0.84 (for example)\n",
    "```\n",
    "\n",
    "---\n",
    "\n",
    "## ✅ Summary Table\n",
    "\n",
    "| Concept           | Meaning                                     |\n",
    "|------------------|---------------------------------------------|\n",
    "| n-gram            | Sequence of n words                        |\n",
    "| Modified Precision| Adjusted match score (avoids overcounting) |\n",
    "| Brevity Penalty   | Penalizes short answers                    |\n",
    "| BLEU Score        | Weighted n-gram match with BP              |\n",
    "| Range             | 0 (worst) to 1 (best)                      |\n",
    "\n",
    "---\n",
    "\n",
    "## 🧠 When to Use BLEU (vs RAGAS metrics)\n",
    "\n",
    "| Use Case                                | BLEU | RAGAS Faithfulness |\n",
    "|----------------------------------------|------|--------------------|\n",
    "| Comparing exactness with reference      | ✅   | ❌                 |\n",
    "| Checking hallucination (groundedness)  | ❌   | ✅                 |\n",
    "| Good for summarization / translation   | ✅   | ❌                 |\n",
    "| Source-aware answer validation          | ❌   | ✅                 |\n",
    "\n",
    "---"
   ]
  },
  {
   "cell_type": "code",
   "execution_count": 10,
   "metadata": {},
   "outputs": [],
   "source": [
    "!pip install sacrebleu -q\n",
    "# sacrebleu is a standard evaluation library for BLEU scores, commonly used in machine translation and text generation tasks."
   ]
  },
  {
   "cell_type": "code",
   "execution_count": 11,
   "metadata": {},
   "outputs": [
    {
     "data": {
      "text/plain": [
       "0.13718598426177148"
      ]
     },
     "execution_count": 11,
     "metadata": {},
     "output_type": "execute_result"
    }
   ],
   "source": [
    "from ragas import SingleTurnSample\n",
    "from ragas.metrics import BleuScore\n",
    "\n",
    "test_data = {\n",
    "    \"user_input\": \"summarise given text\\nThe company reported an 8% rise in Q3 2024, driven by strong performance in the Asian market. Sales in this region have significantly contributed to the overall growth. Analysts attribute this success to strategic marketing and product localization. The positive trend in the Asian market is expected to continue into the next quarter.\",\n",
    "    \"response\": \"The company experienced an 8% increase in Q3 2024, largely due to effective marketing strategies and product adaptation, with expectations of continued growth in the coming quarter.\",\n",
    "    \"reference\": \"The company reported an 8% growth in Q3 2024, primarily driven by strong sales in the Asian market, attributed to strategic marketing and localized products, with continued growth anticipated in the next quarter.\"\n",
    "}\n",
    "metric = BleuScore()\n",
    "test_data = SingleTurnSample(**test_data)\n",
    "metric.single_turn_score(test_data)"
   ]
  },
  {
   "cell_type": "code",
   "execution_count": 12,
   "metadata": {},
   "outputs": [
    {
     "data": {
      "text/plain": [
       "0.7071067811865478"
      ]
     },
     "execution_count": 12,
     "metadata": {},
     "output_type": "execute_result"
    }
   ],
   "source": [
    "from ragas.dataset_schema import SingleTurnSample\n",
    "from ragas.metrics import BleuScore\n",
    "\n",
    "sample = SingleTurnSample(\n",
    "    response=\"The Eiffel Tower is located in India.\",\n",
    "    reference=\"The Eiffel Tower is located in Paris.\"\n",
    ")\n",
    "\n",
    "scorer = BleuScore()\n",
    "await scorer.single_turn_ascore(sample)"
   ]
  },
  {
   "attachments": {
    "image.png": {
     "image/png": "[encoded data removed]"
    }
   },
   "cell_type": "markdown",
   "metadata": {},
   "source": [
    "## 🔴 What is ROUGE?\n",
    "\n",
    "**ROUGE** stands for:  \n",
    "> **Recall-Oriented Understudy for Gisting Evaluation**\n",
    "\n",
    "It’s a set of **metrics used to evaluate automatic summarization or generation tasks**, like:\n",
    "\n",
    "- Summarization\n",
    "- Question Answering\n",
    "- Retrieval-Augmented Generation (RAG)\n",
    "\n",
    "---\n",
    "\n",
    "## 🧠 Simple Explanation\n",
    "\n",
    "> ROUGE measures **how much of the reference (ground truth) answer appears in the generated answer**.\n",
    "\n",
    "While **BLEU** focuses on **precision** (how much of the generated content is correct),  \n",
    "**ROUGE focuses more on recall** (how much of the reference was captured).\n",
    "\n",
    "---\n",
    "\n",
    "## 🔢 ROUGE Variants (Most Used)\n",
    "\n",
    "| Type        | Meaning                                                       |\n",
    "|-------------|---------------------------------------------------------------|\n",
    "| **ROUGE-1** | Overlap of **unigrams** (single words)                        |\n",
    "| **ROUGE-2** | Overlap of **bigrams** (pairs of words)                       |\n",
    "| **ROUGE-L** | Longest Common Subsequence (LCS) between reference & result   |\n",
    "\n",
    "---\n",
    "\n",
    "## 📐 How is ROUGE Calculated?\n",
    "\n",
    "Let’s use **ROUGE-1** as an example.\n",
    "\n",
    "---\n",
    "\n",
    "### ✅ 1. **Unigrams (ROUGE-1)**\n",
    "\n",
    "Suppose:\n",
    "\n",
    "- **Generated Answer:** \"Employees get 24 leave days\"\n",
    "- **Reference Answer:** \"Employees get 24 paid leave days\"\n",
    "\n",
    "Unigrams in Generated = {employees, get, 24, leave, days}  \n",
    "Unigrams in Reference = {employees, get, 24, paid, leave, days}\n",
    "\n",
    "**Overlap (common):** employees, get, 24, leave, days → 5 words\n",
    "\n",
    "---\n",
    "\n",
    "### ✅ 2. **Formula: ROUGE Recall, Precision, F1**\n",
    "\n",
    "Let’s define:\n",
    "\n",
    "- **A** = words in generated answer  \n",
    "- **B** = words in reference answer  \n",
    "- **Overlap** = common words in both\n",
    "\n",
    "#### 📘 ROUGE Recall:\n",
    "\\[\n",
    "\\text{Recall} = \\frac{\\text{# overlapping words}}{\\text{# words in reference}}\n",
    "\\]\n",
    "\n",
    "\\[\n",
    "= \\frac{5}{6} = 0.83\n",
    "\\]\n",
    "\n",
    "---\n",
    "\n",
    "#### 📙 ROUGE Precision:\n",
    "\\[\n",
    "\\text{Precision} = \\frac{\\text{# overlapping words}}{\\text{# words in generated}}\n",
    "\\]\n",
    "\n",
    "\\[\n",
    "= \\frac{5}{5} = 1.0\n",
    "\\]\n",
    "\n",
    "---\n",
    "\n",
    "#### 📗 ROUGE-F1:\n",
    "\n",
    "![image.png](attachment:image.png)\n",
    "\n",
    "---\n",
    "\n",
    "## 🧪 Example Summary Table\n",
    "\n",
    "| Metric      | Score |\n",
    "|-------------|-------|\n",
    "| ROUGE-1     | 0.91  |\n",
    "| ROUGE-2     | 0.85  |\n",
    "| ROUGE-L     | 0.92  |\n",
    "\n",
    "---\n",
    "\n",
    "## 🔬 ROUGE vs BLEU\n",
    "\n",
    "| Feature              | BLEU                         | ROUGE                        |\n",
    "|----------------------|------------------------------|------------------------------|\n",
    "| Focus                | Precision                    | Recall                       |\n",
    "| Goal                 | How much of gen is correct   | How much of ref is covered   |\n",
    "| Good For             | Translation                  | Summarization, QA            |\n",
    "| Common in            | Machine Translation          | Summarization & RAG          |\n",
    "| Metric               | n-gram overlap (gen → ref)   | n-gram overlap (ref → gen)   |\n",
    "\n",
    "---\n",
    "\n",
    "## 🔍 ROUGE in RAGAS\n",
    "\n",
    "ROUGE is **not officially part of core RAGAS metrics** (which uses faithfulness, answer relevancy, etc.), but:\n",
    "\n",
    "- You **can compute ROUGE** to compare **model-generated answers vs. ground truth**\n",
    "- It helps when evaluating **extractive summarization** or **QA answer overlap**\n",
    "\n",
    "---\n",
    "\n",
    "## 🛠 How to Compute ROUGE in Python\n",
    "\n",
    "```python\n",
    "from evaluate import load\n",
    "\n",
    "rouge = load(\"rouge\")\n",
    "\n",
    "# Sample prediction and reference\n",
    "predictions = [\"Employees get 24 leave days.\"]\n",
    "references = [\"Employees get 24 paid leave days.\"]\n",
    "\n",
    "results = rouge.compute(predictions=predictions, references=references)\n",
    "\n",
    "print(results)\n",
    "```\n",
    "\n",
    "### Output:\n",
    "```python\n",
    "{\n",
    "  'rouge1': 0.83,\n",
    "  'rouge2': 0.75,\n",
    "  'rougeL': 0.85,\n",
    "  'rougeLsum': 0.85\n",
    "}\n",
    "```\n",
    "\n",
    "---\n",
    "\n",
    "## 📚 Real-World RAG Example\n",
    "\n",
    "**Question:** \"How many paid leaves do I get?\"\n",
    "\n",
    "- **Reference:** \"Employees get 24 paid leave days.\"\n",
    "- **Model A Answer:** \"Employees get 24 leave days.\"\n",
    "- **Model B Answer:** \"Employees receive 30 days off.\"\n",
    "\n",
    "| Metric     | Model A     | Model B     |\n",
    "|------------|-------------|-------------|\n",
    "| ROUGE-1    | 0.91        | 0.67        |\n",
    "| ROUGE-2    | 0.82        | 0.44        |\n",
    "| ROUGE-L    | 0.92        | 0.56        |\n",
    "\n",
    "🧠 **Model A** is closer in language and content. ROUGE confirms that.\n",
    "\n",
    "---\n",
    "\n",
    "## ✅ Summary\n",
    "\n",
    "| Term        | Meaning |\n",
    "|-------------|---------|\n",
    "| ROUGE-1     | Recall-based overlap of unigrams (words)  \n",
    "| ROUGE-2     | Bigram overlap (word pairs)  \n",
    "| ROUGE-L     | Longest common sequence between reference and generated  \n",
    "| ROUGE Recall| % of reference captured  \n",
    "| ROUGE F1    | Balance of precision and recall\n",
    "\n",
    "---\n",
    "\n",
    "## 🚀 Use ROUGE When:\n",
    "- Evaluating **QA or summarization** output quality\n",
    "- Comparing **generated answers to ground-truth**\n",
    "- Complementing semantic metrics (like **faithfulness** in RAGAS)\n",
    "\n",
    "---"
   ]
  },
  {
   "cell_type": "code",
   "execution_count": 13,
   "metadata": {},
   "outputs": [
    {
     "data": {
      "text/plain": [
       "0.8571428571428571"
      ]
     },
     "execution_count": 13,
     "metadata": {},
     "output_type": "execute_result"
    }
   ],
   "source": [
    "from ragas.dataset_schema import SingleTurnSample\n",
    "from ragas.metrics import RougeScore\n",
    "\n",
    "sample = SingleTurnSample(\n",
    "    response=\"The Eiffel Tower is located in India.\",\n",
    "    reference=\"The Eiffel Tower is located in Paris.\"\n",
    ")\n",
    "\n",
    "scorer = RougeScore()\n",
    "await scorer.single_turn_ascore(sample)"
   ]
  },
  {
   "cell_type": "code",
   "execution_count": 14,
   "metadata": {},
   "outputs": [
    {
     "data": {
      "text/plain": [
       "0.8571428571428571"
      ]
     },
     "execution_count": 14,
     "metadata": {},
     "output_type": "execute_result"
    }
   ],
   "source": [
    "from ragas.dataset_schema import SingleTurnSample\n",
    "from ragas.metrics import RougeScore\n",
    "\n",
    "sample = SingleTurnSample(\n",
    "    response=\"The Eiffel Tower is located in India.\",\n",
    "    reference=\"The Eiffel Tower is located in Paris.\"\n",
    ")\n",
    "\n",
    "scorer = RougeScore(rouge_type=\"rouge1\")\n",
    "await scorer.single_turn_ascore(sample)"
   ]
  },
  {
   "cell_type": "code",
   "execution_count": 15,
   "metadata": {},
   "outputs": [
    {
     "data": {
      "text/plain": [
       "0.8571428571428571"
      ]
     },
     "execution_count": 15,
     "metadata": {},
     "output_type": "execute_result"
    }
   ],
   "source": [
    "from ragas.dataset_schema import SingleTurnSample\n",
    "from ragas.metrics import RougeScore\n",
    "\n",
    "sample = SingleTurnSample(\n",
    "    response=\"The Eiffel Tower is located in India.\",\n",
    "    reference=\"The Eiffel Tower is located in Paris.\"\n",
    ")\n",
    "\n",
    "scorer = RougeScore(mode=\"recall\")\n",
    "await scorer.single_turn_ascore(sample)"
   ]
  },
  {
   "cell_type": "code",
   "execution_count": 16,
   "metadata": {},
   "outputs": [
    {
     "data": {
      "text/plain": [
       "0.0"
      ]
     },
     "execution_count": 16,
     "metadata": {},
     "output_type": "execute_result"
    }
   ],
   "source": [
    "from ragas.dataset_schema import SingleTurnSample\n",
    "from ragas.metrics import ExactMatch\n",
    "\n",
    "sample = SingleTurnSample(\n",
    "    response=\"India\",\n",
    "    reference=\"Paris\"\n",
    ")\n",
    "\n",
    "scorer = ExactMatch()\n",
    "await scorer.single_turn_ascore(sample)"
   ]
  },
  {
   "cell_type": "code",
   "execution_count": 17,
   "metadata": {},
   "outputs": [
    {
     "data": {
      "text/plain": [
       "1.0"
      ]
     },
     "execution_count": 17,
     "metadata": {},
     "output_type": "execute_result"
    }
   ],
   "source": [
    "from ragas.dataset_schema import SingleTurnSample\n",
    "from ragas.metrics import StringPresence\n",
    "\n",
    "sample = SingleTurnSample(\n",
    "    response=\"The Eiffel Tower is located in India.\",\n",
    "    reference=\"Eiffel Tower\"\n",
    ")\n",
    "scorer = StringPresence()\n",
    "await scorer.single_turn_ascore(sample)"
   ]
  },
  {
   "cell_type": "code",
   "execution_count": null,
   "metadata": {},
   "outputs": [],
   "source": []
  },
  {
   "cell_type": "markdown",
   "metadata": {},
   "source": [
    "## Evaluate a simple RAG system"
   ]
  },
  {
   "cell_type": "code",
   "execution_count": 18,
   "metadata": {},
   "outputs": [],
   "source": [
    "from langchain_openai import ChatOpenAI\n",
    "from langchain_openai import OpenAIEmbeddings\n",
    "llm = ChatOpenAI(model=\"gpt-4o\")\n",
    "embeddings = OpenAIEmbeddings()"
   ]
  },
  {
   "cell_type": "code",
   "execution_count": 19,
   "metadata": {},
   "outputs": [],
   "source": [
    "import numpy as np\n",
    "\n",
    "class RAG:\n",
    "    def __init__(self, model=\"gpt-4o\"):\n",
    "        self.llm = ChatOpenAI(model=model)\n",
    "        self.embeddings = OpenAIEmbeddings()\n",
    "        self.doc_embeddings = None\n",
    "        self.docs = None\n",
    "\n",
    "    def load_documents(self, documents):\n",
    "        \"\"\"Load documents and compute their embeddings.\"\"\"\n",
    "        self.docs = documents\n",
    "        self.doc_embeddings = self.embeddings.embed_documents(documents)\n",
    "\n",
    "    def get_most_relevant_docs(self, query):\n",
    "        \"\"\"Find the most relevant document for a given query.\"\"\"\n",
    "        if not self.docs or not self.doc_embeddings:\n",
    "            raise ValueError(\"Documents and their embeddings are not loaded.\")\n",
    "\n",
    "        query_embedding = self.embeddings.embed_query(query)\n",
    "        similarities = [\n",
    "            np.dot(query_embedding, doc_emb)\n",
    "            / (np.linalg.norm(query_embedding) * np.linalg.norm(doc_emb))\n",
    "            for doc_emb in self.doc_embeddings\n",
    "        ]\n",
    "        most_relevant_doc_index = np.argmax(similarities)\n",
    "        return [self.docs[most_relevant_doc_index]]\n",
    "\n",
    "    def generate_answer(self, query, relevant_doc):\n",
    "        \"\"\"Generate an answer for a given query based on the most relevant document.\"\"\"\n",
    "        prompt = f\"question: {query}\\n\\nDocuments: {relevant_doc}\"\n",
    "        messages = [\n",
    "            (\"system\", \"You are a helpful assistant that answers questions based on given documents only.\"),\n",
    "            (\"human\", prompt),\n",
    "        ]\n",
    "        ai_msg = self.llm.invoke(messages)\n",
    "        return ai_msg.content"
   ]
  },
  {
   "cell_type": "code",
   "execution_count": 20,
   "metadata": {},
   "outputs": [],
   "source": [
    "sample_docs = [\n",
    "    \"Albert Einstein proposed the theory of relativity, which transformed our understanding of time, space, and gravity.\",\n",
    "    \"Marie Curie was a physicist and chemist who conducted pioneering research on radioactivity and won two Nobel Prizes.\",\n",
    "    \"Isaac Newton formulated the laws of motion and universal gravitation, laying the foundation for classical mechanics.\",\n",
    "    \"Charles Darwin introduced the theory of evolution by natural selection in his book 'On the Origin of Species'.\",\n",
    "    \"Ada Lovelace is regarded as the first computer programmer for her work on Charles Babbage's early mechanical computer, the Analytical Engine.\"\n",
    "]"
   ]
  },
  {
   "cell_type": "code",
   "execution_count": 21,
   "metadata": {},
   "outputs": [
    {
     "name": "stdout",
     "output_type": "stream",
     "text": [
      "Query: Who introduced the theory of relativity?\n",
      "Relevant Document: ['Albert Einstein proposed the theory of relativity, which transformed our understanding of time, space, and gravity.']\n",
      "Answer: Albert Einstein introduced the theory of relativity.\n"
     ]
    }
   ],
   "source": [
    "# Initialize RAG instance\n",
    "rag = RAG()\n",
    "\n",
    "# Load documents\n",
    "rag.load_documents(sample_docs)\n",
    "\n",
    "# Query and retrieve the most relevant document\n",
    "query = \"Who introduced the theory of relativity?\"\n",
    "relevant_doc = rag.get_most_relevant_docs(query)\n",
    "\n",
    "# Generate an answer\n",
    "answer = rag.generate_answer(query, relevant_doc)\n",
    "\n",
    "print(f\"Query: {query}\")\n",
    "print(f\"Relevant Document: {relevant_doc}\")\n",
    "print(f\"Answer: {answer}\")"
   ]
  },
  {
   "cell_type": "code",
   "execution_count": 22,
   "metadata": {},
   "outputs": [],
   "source": [
    "sample_queries = [\n",
    "    \"Who introduced the theory of relativity?\",\n",
    "    \"Who was the first computer programmer?\",\n",
    "    \"What did Isaac Newton contribute to science?\",\n",
    "    \"Who won two Nobel Prizes for research on radioactivity?\",\n",
    "    \"What is the theory of evolution by natural selection?\"\n",
    "]\n",
    "\n",
    "expected_responses = [\n",
    "    \"Albert Einstein proposed the theory of relativity, which transformed our understanding of time, space, and gravity.\",\n",
    "    \"Ada Lovelace is regarded as the first computer programmer for her work on Charles Babbage's early mechanical computer, the Analytical Engine.\",\n",
    "    \"Isaac Newton formulated the laws of motion and universal gravitation, laying the foundation for classical mechanics.\",\n",
    "    \"Marie Curie was a physicist and chemist who conducted pioneering research on radioactivity and won two Nobel Prizes.\",\n",
    "    \"Charles Darwin introduced the theory of evolution by natural selection in his book 'On the Origin of Species'.\"\n",
    "]"
   ]
  },
  {
   "cell_type": "code",
   "execution_count": 23,
   "metadata": {},
   "outputs": [],
   "source": [
    "dataset = []\n",
    "\n",
    "for query,reference in zip(sample_queries,expected_responses):\n",
    "\n",
    "    relevant_docs = rag.get_most_relevant_docs(query)\n",
    "    response = rag.generate_answer(query, relevant_docs)\n",
    "    dataset.append(\n",
    "        {\n",
    "            \"user_input\":query,\n",
    "            \"retrieved_contexts\":relevant_docs,\n",
    "            \"response\":response,\n",
    "            \"reference\":reference\n",
    "        }\n",
    "    )"
   ]
  },
  {
   "cell_type": "code",
   "execution_count": 24,
   "metadata": {},
   "outputs": [],
   "source": [
    "from ragas import EvaluationDataset\n",
    "# EvaluationDataset is a wrapper for RAG-style samples (like user query, response, reference answer, and optionally context documents).\n",
    "\n",
    "evaluation_dataset = EvaluationDataset.from_list(dataset)"
   ]
  },
  {
   "cell_type": "code",
   "execution_count": 25,
   "metadata": {},
   "outputs": [
    {
     "data": {
      "application/vnd.jupyter.widget-view+json": {
       "model_id": "a277c5866a9a462aa584bbc51e404376",
       "version_major": 2,
       "version_minor": 0
      },
      "text/plain": [
       "Evaluating:   0%|          | 0/15 [00:00<?, ?it/s]"
      ]
     },
     "metadata": {},
     "output_type": "display_data"
    },
    {
     "data": {
      "text/plain": [
       "{'context_recall': 1.0000, 'faithfulness': 0.6400, 'factual_correctness(mode=f1)': 0.7740}"
      ]
     },
     "execution_count": 25,
     "metadata": {},
     "output_type": "execute_result"
    }
   ],
   "source": [
    "from ragas import evaluate\n",
    "from ragas.llms import LangchainLLMWrapper\n",
    "\n",
    "\n",
    "evaluator_llm = LangchainLLMWrapper(llm)\n",
    "from ragas.metrics import LLMContextRecall, Faithfulness, FactualCorrectness\n",
    "\n",
    "result = evaluate(dataset=evaluation_dataset,metrics=[LLMContextRecall(), Faithfulness(), FactualCorrectness()],llm=evaluator_llm)\n",
    "result"
   ]
  },
  {
   "cell_type": "code",
   "execution_count": 26,
   "metadata": {},
   "outputs": [],
   "source": [
    "# https://app.ragas.io/dashboard/settings/app-tokens\n",
    "import os\n",
    "os.environ[\"RAGAS_APP_TOKEN\"] = \"apt.4870-cf5a67c95452-ee85-b4b4-648e61e6-a0383\""
   ]
  },
  {
   "cell_type": "code",
   "execution_count": 27,
   "metadata": {},
   "outputs": [
    {
     "name": "stdout",
     "output_type": "stream",
     "text": [
      "Evaluation results uploaded! View at https://app.ragas.io/dashboard/alignment/evaluation/1d02969a-68cd-496d-a6dd-9c2be0bee0cc\n"
     ]
    },
    {
     "data": {
      "text/plain": [
       "'https://app.ragas.io/dashboard/alignment/evaluation/1d02969a-68cd-496d-a6dd-9c2be0bee0cc'"
      ]
     },
     "execution_count": 27,
     "metadata": {},
     "output_type": "execute_result"
    }
   ],
   "source": [
    "result.upload()"
   ]
  },
  {
   "cell_type": "code",
   "execution_count": null,
   "metadata": {},
   "outputs": [],
   "source": []
  },
  {
   "cell_type": "code",
   "execution_count": 28,
   "metadata": {},
   "outputs": [
    {
     "data": {
      "application/vnd.jupyter.widget-view+json": {
       "model_id": "7d3985d317b34fdf912a5e9dbe70c261",
       "version_major": 2,
       "version_minor": 0
      },
      "text/plain": [
       "Evaluating:   0%|          | 0/4 [00:00<?, ?it/s]"
      ]
     },
     "metadata": {},
     "output_type": "display_data"
    }
   ],
   "source": [
    "from datasets import Dataset \n",
    "import os\n",
    "from ragas import evaluate\n",
    "from ragas.metrics import faithfulness, answer_correctness\n",
    "\n",
    "data_samples = {\n",
    "    'question': [\n",
    "        'When was the first super bowl?', \n",
    "        'Who won the most super bowls?'\n",
    "    ],\n",
    "    'answer': [\n",
    "        'The first superbowl was held on Jan 15, 1967', \n",
    "        'The most super bowls have been won by The New England Patriots'\n",
    "    ],\n",
    "    'contexts': [\n",
    "        [\n",
    "            'The First AFL–NFL World Championship Game was an American football game played on January 15, 1967, at the Los Angeles Memorial Coliseum in Los Angeles,'\n",
    "        ], \n",
    "        [\n",
    "            'The Green Bay Packers...Green Bay, Wisconsin.',\n",
    "            'The Packers compete...Football Conference'\n",
    "        ]\n",
    "    ],\n",
    "    'ground_truth': [\n",
    "        'The first superbowl was held on January 15, 1967', \n",
    "        'The New England Patriots have won the Super Bowl a record six times'\n",
    "    ]\n",
    "}\n",
    "\n",
    "dataset = Dataset.from_dict(data_samples)\n",
    "\n",
    "score = evaluate(dataset, metrics=[faithfulness, answer_correctness])\n",
    "df = score.to_pandas()\n",
    "df.to_csv('score.csv', index=False)"
   ]
  },
  {
   "cell_type": "code",
   "execution_count": null,
   "metadata": {},
   "outputs": [],
   "source": []
  },
  {
   "cell_type": "markdown",
   "metadata": {},
   "source": [
    "# Happy Learning"
   ]
  }
 ],
 "metadata": {
  "kernelspec": {
   "display_name": "base",
   "language": "python",
   "name": "python3"
  },
  "language_info": {
   "codemirror_mode": {
    "name": "ipython",
    "version": 3
   },
   "file_extension": ".py",
   "mimetype": "text/x-python",
   "name": "python",
   "nbconvert_exporter": "python",
   "pygments_lexer": "ipython3",
   "version": "3.11.7"
  },
  "varInspector": {
   "cols": {
    "lenName": 16,
    "lenType": 16,
    "lenVar": 40
   },
   "kernels_config": {
    "python": {
     "delete_cmd_postfix": "",
     "delete_cmd_prefix": "del ",
     "library": "var_list.py",
     "varRefreshCmd": "print(var_dic_list())"
    },
    "r": {
     "delete_cmd_postfix": ") ",
     "delete_cmd_prefix": "rm(",
     "library": "var_list.r",
     "varRefreshCmd": "cat(var_dic_list()) "
    }
   },
   "types_to_exclude": [
    "module",
    "function",
    "builtin_function_or_method",
    "instance",
    "_Feature"
   ],
   "window_display": false
  }
 },
 "nbformat": 4,
 "nbformat_minor": 2
}
